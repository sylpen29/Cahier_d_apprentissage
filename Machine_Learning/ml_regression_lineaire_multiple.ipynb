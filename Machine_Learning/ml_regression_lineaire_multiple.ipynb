{
 "cells": [
  {
   "cell_type": "markdown",
   "metadata": {},
   "source": [
    "![machine learnia](logo_machine_learnia.jpg)    \n",
    "# Régression linéaire polynômiales\n",
    "### Machine learnia"
   ]
  },
  {
   "cell_type": "markdown",
   "metadata": {},
   "source": [
    "### Pour faire simple, on récupère le fichier sur la [régression linéaire simple](ml_regression_lineaire_simple.ipynb) et on va changer le contenu de la matrice x et de la matrice theta"
   ]
  }
 ],
 "metadata": {
  "interpreter": {
   "hash": "b57b0ba709768a7bbbc5b5f9f052a7cbe42e1ac711dd327dca942e98c95c92b1"
  },
  "kernelspec": {
   "display_name": "Python 3.9.7 64-bit ('base': conda)",
   "language": "python",
   "name": "python3"
  },
  "language_info": {
   "name": "python",
   "version": "3.9.7"
  },
  "orig_nbformat": 4
 },
 "nbformat": 4,
 "nbformat_minor": 2
}
