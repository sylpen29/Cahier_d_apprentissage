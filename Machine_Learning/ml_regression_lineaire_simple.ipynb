{
 "cells": [
  {
   "cell_type": "markdown",
   "metadata": {},
   "source": [
    "![machine learnia](logo_machine_learnia.jpg)    \n",
    "# Machine learnia régression linéaire avec numpy\n",
    "### lien vers la vidéo de [Régression Linéaire Machine learnia](https://www.youtube.com/watch?v=vG6tDQc86Rs&list=PLO_fdPEVlfKqUF5BPKjGSh7aV9aBshrpY&index=8)"
   ]
  },
  {
   "cell_type": "code",
   "execution_count": 1,
   "metadata": {},
   "outputs": [],
   "source": [
    "import numpy as np\n",
    "from sklearn.datasets import make_regression\n",
    "import matplotlib.pyplot as plt"
   ]
  },
  {
   "cell_type": "code",
   "execution_count": 2,
   "metadata": {},
   "outputs": [
    {
     "data": {
      "text/plain": [
       "<matplotlib.collections.PathCollection at 0x188623fd9a0>"
      ]
     },
     "execution_count": 2,
     "metadata": {},
     "output_type": "execute_result"
    },
    {
     "data": {
      "image/png": "[encoded data removed]",
      "text/plain": [
       "<Figure size 432x288 with 1 Axes>"
      ]
     },
     "metadata": {
      "needs_background": "light"
     },
     "output_type": "display_data"
    }
   ],
   "source": [
    "### Création dataset\n",
    "x,y = make_regression(n_samples= 100, n_features= 1, noise= 10)\n",
    "### afficher le dataset en nuage de points\n",
    "plt.scatter(x, y)"
   ]
  },
  {
   "cell_type": "markdown",
   "metadata": {},
   "source": [
    "#### ! lorsqu'on utilise make.regression() les données de \"y\" sont incomplètes : donc réecrire les dimensions de \"y\""
   ]
  },
  {
   "cell_type": "code",
   "execution_count": 3,
   "metadata": {},
   "outputs": [
    {
     "name": "stdout",
     "output_type": "stream",
     "text": [
      "(100, 1)\n",
      "(100, 1)\n"
     ]
    }
   ],
   "source": [
    "# vérifier les dimensions de la matrice \n",
    "print(x.shape)\n",
    "# réecrire les dimensions en prenant le nombre de lignes qu'il y a dans \"y\" en appelant shape[0]\n",
    "y = y.reshape(y.shape[0], 1) \n",
    "print(y.shape)"
   ]
  },
  {
   "cell_type": "code",
   "execution_count": 4,
   "metadata": {},
   "outputs": [
    {
     "name": "stdout",
     "output_type": "stream",
     "text": [
      "[[-0.25256155  1.        ]\n",
      " [-0.48286842  1.        ]\n",
      " [-2.23961522  1.        ]\n",
      " [ 0.07854098  1.        ]\n",
      " [ 0.5097552   1.        ]\n",
      " [-0.50165164  1.        ]\n",
      " [-0.10700315  1.        ]\n",
      " [ 0.09442969  1.        ]\n",
      " [-1.1478347   1.        ]\n",
      " [-0.55959445  1.        ]\n",
      " [ 0.80069571  1.        ]\n",
      " [ 0.64023905  1.        ]\n",
      " [-0.6584997   1.        ]\n",
      " [ 1.75790674  1.        ]\n",
      " [ 0.91472067  1.        ]\n",
      " [ 0.86722397  1.        ]\n",
      " [-1.20006251  1.        ]\n",
      " [-0.16336101  1.        ]\n",
      " [-1.29577743  1.        ]\n",
      " [-2.04095002  1.        ]\n",
      " [-3.22684105  1.        ]\n",
      " [-0.68785673  1.        ]\n",
      " [ 0.43583897  1.        ]\n",
      " [ 0.00384026  1.        ]\n",
      " [ 2.13736379  1.        ]\n",
      " [-0.35102248  1.        ]\n",
      " [-0.38669406  1.        ]\n",
      " [-1.15640403  1.        ]\n",
      " [-0.38769976  1.        ]\n",
      " [ 1.38981744  1.        ]\n",
      " [-1.00779596  1.        ]\n",
      " [-0.04054133  1.        ]\n",
      " [-0.43956137  1.        ]\n",
      " [ 1.15919874  1.        ]\n",
      " [-0.83738512  1.        ]\n",
      " [-0.22305439  1.        ]\n",
      " [-0.79366465  1.        ]\n",
      " [-0.34352068  1.        ]\n",
      " [ 0.84806062  1.        ]\n",
      " [-1.43705217  1.        ]\n",
      " [-1.54099256  1.        ]\n",
      " [ 0.28253509  1.        ]\n",
      " [ 0.8748256   1.        ]\n",
      " [ 0.77050214  1.        ]\n",
      " [-0.03342433  1.        ]\n",
      " [ 0.80498474  1.        ]\n",
      " [-2.37162919  1.        ]\n",
      " [-0.37737596  1.        ]\n",
      " [ 0.71842636  1.        ]\n",
      " [ 1.11254622  1.        ]\n",
      " [ 0.33808737  1.        ]\n",
      " [ 0.07474215  1.        ]\n",
      " [-0.0443623   1.        ]\n",
      " [-0.66541642  1.        ]\n",
      " [ 1.18064177  1.        ]\n",
      " [-2.17666926  1.        ]\n",
      " [ 0.05561993  1.        ]\n",
      " [ 0.22462814  1.        ]\n",
      " [ 1.15106156  1.        ]\n",
      " [ 0.58468072  1.        ]\n",
      " [-0.11407787  1.        ]\n",
      " [ 0.45003374  1.        ]\n",
      " [-0.6541279   1.        ]\n",
      " [ 0.5111491   1.        ]\n",
      " [ 0.14427738  1.        ]\n",
      " [ 0.01293691  1.        ]\n",
      " [-1.09521105  1.        ]\n",
      " [-1.22099847  1.        ]\n",
      " [-0.60636512  1.        ]\n",
      " [ 0.19152316  1.        ]\n",
      " [ 1.56360835  1.        ]\n",
      " [-1.49033389  1.        ]\n",
      " [ 1.06900907  1.        ]\n",
      " [ 0.00801992  1.        ]\n",
      " [ 0.82086752  1.        ]\n",
      " [-0.98540457  1.        ]\n",
      " [ 1.36201251  1.        ]\n",
      " [ 0.14364358  1.        ]\n",
      " [ 1.6904692   1.        ]\n",
      " [-0.17845511  1.        ]\n",
      " [ 0.77243556  1.        ]\n",
      " [ 0.16471522  1.        ]\n",
      " [ 0.79505696  1.        ]\n",
      " [ 1.48330998  1.        ]\n",
      " [ 1.56320942  1.        ]\n",
      " [ 2.1498765   1.        ]\n",
      " [ 2.09840486  1.        ]\n",
      " [-2.25438058  1.        ]\n",
      " [-0.36719156  1.        ]\n",
      " [-1.10569467  1.        ]\n",
      " [ 0.75320525  1.        ]\n",
      " [ 0.73159003  1.        ]\n",
      " [-0.21125484  1.        ]\n",
      " [-1.45999886  1.        ]\n",
      " [ 1.3010377   1.        ]\n",
      " [-0.400456    1.        ]\n",
      " [ 0.51203398  1.        ]\n",
      " [ 0.29102978  1.        ]\n",
      " [-1.21845658  1.        ]\n",
      " [-0.98720807  1.        ]]\n"
     ]
    }
   ],
   "source": [
    "# matrice x, avec hstack qui permet de coller tous les vecteurs\n",
    "# on colle les vecteur en rajoutant une colonne de biais \"1\" de la meme taille que x\n",
    "X = np.hstack((x, np.ones(x.shape)))\n",
    "X.shape\n",
    "print(X) # X = 100 lignes et 2 colonnes"
   ]
  },
  {
   "cell_type": "code",
   "execution_count": 5,
   "metadata": {},
   "outputs": [
    {
     "data": {
      "text/plain": [
       "(2, 1)"
      ]
     },
     "execution_count": 5,
     "metadata": {},
     "output_type": "execute_result"
    }
   ],
   "source": [
    "# Générer theta avec des valeurs aléatoires\n",
    "theta = np.random.randn(2, 1)\n",
    "theta.shape # on verifie les dimensions"
   ]
  },
  {
   "cell_type": "markdown",
   "metadata": {},
   "source": [
    "## Modèle linéaire"
   ]
  },
  {
   "cell_type": "code",
   "execution_count": 6,
   "metadata": {},
   "outputs": [],
   "source": [
    "def model(X, theta):\n",
    "    return X.dot(theta) # retourne le produit matriciel de X theta"
   ]
  },
  {
   "cell_type": "code",
   "execution_count": 7,
   "metadata": {},
   "outputs": [
    {
     "data": {
      "text/plain": [
       "[<matplotlib.lines.Line2D at 0x18863b82e80>]"
      ]
     },
     "execution_count": 7,
     "metadata": {},
     "output_type": "execute_result"
    },
    {
     "data": {
      "image/png": "[encoded data removed]",
      "text/plain": [
       "<Figure size 432x288 with 1 Axes>"
      ]
     },
     "metadata": {
      "needs_background": "light"
     },
     "output_type": "display_data"
    }
   ],
   "source": [
    "# afficher avec matplotlib le resultat du modèle par rapport au dataset X\n",
    "plt.plot(x, model(X, theta))"
   ]
  },
  {
   "cell_type": "markdown",
   "metadata": {},
   "source": [
    "## Fonction coût : erreur quadratique moyenne"
   ]
  },
  {
   "cell_type": "code",
   "execution_count": 8,
   "metadata": {},
   "outputs": [],
   "source": [
    "def cost_fonction(X, y, theta):\n",
    "    m = len(y)        # m représente le nombre d'exemple que l'on à dans le dataset, m = à la longueur du vecteur y\n",
    "    return 1/(2*m) * np.sum((model(X, theta) - y)**2) \n",
    "    # ² = à la différence entre notre model et notre y"
   ]
  },
  {
   "cell_type": "markdown",
   "metadata": {},
   "source": [
    "## Gradients et Descente de gradient"
   ]
  },
  {
   "cell_type": "code",
   "execution_count": 9,
   "metadata": {},
   "outputs": [],
   "source": [
    "# fonction gradient\n",
    "def grad(X, y, theta):\n",
    "    m = len(y)\n",
    "    return 1/m * X.T.dot(model(X, theta) - y)"
   ]
  },
  {
   "cell_type": "code",
   "execution_count": 10,
   "metadata": {},
   "outputs": [],
   "source": [
    "# fonction descente de gradient\n",
    "def gradient_descent(X, y, theta, learning_rate, n_iterations):\n",
    "    cost_history = np.zeros(n_iterations) # sert pour la courbe d'apprentissage)\n",
    "    for i in range(0, n_iterations):\n",
    "        theta = theta - learning_rate * grad(X, y, theta)\n",
    "        cost_history[i] = cost_fonction(X, y, theta) # on enregistre le coût du modèle pour chaque itérations\n",
    "    return theta, cost_history"
   ]
  },
  {
   "cell_type": "markdown",
   "metadata": {},
   "source": [
    "## Machine Learning : Entraînement du modèle"
   ]
  },
  {
   "cell_type": "code",
   "execution_count": 11,
   "metadata": {},
   "outputs": [
    {
     "data": {
      "text/plain": [
       "array([[21.08865764],\n",
       "       [ 0.3674308 ]])"
      ]
     },
     "execution_count": 11,
     "metadata": {},
     "output_type": "execute_result"
    }
   ],
   "source": [
    "theta_final, cost_history = gradient_descent(X, y, theta, learning_rate=0.01, n_iterations=1000)\n",
    "theta_final"
   ]
  },
  {
   "cell_type": "code",
   "execution_count": 12,
   "metadata": {},
   "outputs": [
    {
     "data": {
      "text/plain": [
       "[<matplotlib.lines.Line2D at 0x18863c052b0>]"
      ]
     },
     "execution_count": 12,
     "metadata": {},
     "output_type": "execute_result"
    },
    {
     "data": {
      "image/png": "[encoded data removed]",
      "text/plain": [
       "<Figure size 432x288 with 1 Axes>"
      ]
     },
     "metadata": {
      "needs_background": "light"
     },
     "output_type": "display_data"
    }
   ],
   "source": [
    "# vérification si le vecteur paramètre donne de bons résultats\n",
    "predictions = model(X ,theta_final)\n",
    "plt.scatter(x, y)\n",
    "plt.plot(x, predictions, c=\"purple\")"
   ]
  },
  {
   "cell_type": "markdown",
   "metadata": {},
   "source": [
    "## Courbe d'apprentissage\n",
    "###### Voir si la machine apprend correctement"
   ]
  },
  {
   "cell_type": "code",
   "execution_count": 13,
   "metadata": {},
   "outputs": [
    {
     "data": {
      "text/plain": [
       "[<matplotlib.lines.Line2D at 0x18863c62a30>]"
      ]
     },
     "execution_count": 13,
     "metadata": {},
     "output_type": "execute_result"
    },
    {
     "data": {
      "image/png": "[encoded data removed]",
      "text/plain": [
       "<Figure size 432x288 with 1 Axes>"
      ]
     },
     "metadata": {
      "needs_background": "light"
     },
     "output_type": "display_data"
    }
   ],
   "source": [
    "plt.plot(range(1000), cost_history)"
   ]
  },
  {
   "cell_type": "markdown",
   "metadata": {},
   "source": [
    "## Coefficient de détermination\n",
    "###### permet d'évaluer la performance de regression linéaire : méthode des moindres carrés\n",
    "###### donc plus il est proche de 1 plus le modèle est bon"
   ]
  },
  {
   "cell_type": "code",
   "execution_count": 14,
   "metadata": {},
   "outputs": [],
   "source": [
    "def coef_determination(y, pred):\n",
    "    u =((y - pred)**2).sum()    # u = residu de la somme des carrées\n",
    "    v = ((y - y.mean())**2).sum()\n",
    "    return 1 - u/v       # v = somme total des carrées"
   ]
  },
  {
   "cell_type": "code",
   "execution_count": 15,
   "metadata": {},
   "outputs": [
    {
     "data": {
      "text/plain": [
       "0.8009136575454464"
      ]
     },
     "execution_count": 15,
     "metadata": {},
     "output_type": "execute_result"
    }
   ],
   "source": [
    "coef_determination(y , predictions)"
   ]
  }
 ],
 "metadata": {
  "interpreter": {
   "hash": "b57b0ba709768a7bbbc5b5f9f052a7cbe42e1ac711dd327dca942e98c95c92b1"
  },
  "kernelspec": {
   "display_name": "Python 3.9.7 64-bit ('base': conda)",
   "language": "python",
   "name": "python3"
  },
  "language_info": {
   "codemirror_mode": {
    "name": "ipython",
    "version": 3
   },
   "file_extension": ".py",
   "mimetype": "text/x-python",
   "name": "python",
   "nbconvert_exporter": "python",
   "pygments_lexer": "ipython3",
   "version": "3.9.7"
  },
  "orig_nbformat": 4
 },
 "nbformat": 4,
 "nbformat_minor": 2
}
