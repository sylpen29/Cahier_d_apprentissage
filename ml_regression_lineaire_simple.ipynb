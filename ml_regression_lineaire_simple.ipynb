{
 "cells": [
  {
   "cell_type": "markdown",
   "metadata": {},
   "source": [
    "![machine learnia](logo_machine_learnia.jpg)    \n",
    "## Machine learnia régression linéaire avec numpy\n",
    "### lien vers la vidéo de [Régression Linéaire Machine learnia](https://www.youtube.com/watch?v=vG6tDQc86Rs&list=PLO_fdPEVlfKqUF5BPKjGSh7aV9aBshrpY&index=8)"
   ]
  },
  {
   "cell_type": "code",
   "execution_count": 45,
   "metadata": {},
   "outputs": [],
   "source": [
    "import numpy as np\n",
    "from sklearn.datasets import make_regression\n",
    "import matplotlib.pyplot as plt"
   ]
  },
  {
   "cell_type": "code",
   "execution_count": 46,
   "metadata": {},
   "outputs": [
    {
     "data": {
      "text/plain": [
       "<matplotlib.collections.PathCollection at 0x2bc8154bca0>"
      ]
     },
     "execution_count": 46,
     "metadata": {},
     "output_type": "execute_result"
    },
    {
     "data": {
      "image/png": "[encoded data removed]",
      "text/plain": [
       "<Figure size 432x288 with 1 Axes>"
      ]
     },
     "metadata": {
      "needs_background": "light"
     },
     "output_type": "display_data"
    }
   ],
   "source": [
    "### Création dataset\n",
    "x,y = make_regression(n_samples= 100, n_features= 1, noise= 10)\n",
    "### afficher le dataset en nuage de points\n",
    "plt.scatter(x, y)"
   ]
  },
  {
   "cell_type": "markdown",
   "metadata": {},
   "source": [
    "### ! lorsqu'on utilise make.regression() les données de \"y\" sont incomplètes : donc réecrire les dimensions de \"y\""
   ]
  },
  {
   "cell_type": "code",
   "execution_count": 47,
   "metadata": {},
   "outputs": [
    {
     "name": "stdout",
     "output_type": "stream",
     "text": [
      "(100, 1)\n",
      "(100, 1)\n"
     ]
    }
   ],
   "source": [
    "# vérifier les dimensions de la matrice \n",
    "print(x.shape)\n",
    "# réecrire les dimensions en prenant le nombre de lignes qu'il y a dans \"y\" en appelant shape[0]\n",
    "y = y.reshape(y.shape[0], 1) \n",
    "print(y.shape)"
   ]
  },
  {
   "cell_type": "code",
   "execution_count": 48,
   "metadata": {},
   "outputs": [
    {
     "name": "stdout",
     "output_type": "stream",
     "text": [
      "[[-0.27584696  1.        ]\n",
      " [ 0.00904205  1.        ]\n",
      " [ 1.38547452  1.        ]\n",
      " [ 0.83348482  1.        ]\n",
      " [ 0.63472132  1.        ]\n",
      " [-0.45291072  1.        ]\n",
      " [ 0.55154283  1.        ]\n",
      " [-1.10920217  1.        ]\n",
      " [ 0.91849543  1.        ]\n",
      " [-0.37270991  1.        ]\n",
      " [ 0.91425548  1.        ]\n",
      " [ 0.4018703   1.        ]\n",
      " [-0.10417197  1.        ]\n",
      " [ 0.15915725  1.        ]\n",
      " [ 0.75115387  1.        ]\n",
      " [ 0.0350777   1.        ]\n",
      " [ 1.58384655  1.        ]\n",
      " [-0.70491824  1.        ]\n",
      " [ 1.07402068  1.        ]\n",
      " [-1.43056564  1.        ]\n",
      " [ 1.03343777  1.        ]\n",
      " [ 2.29929057  1.        ]\n",
      " [-1.54178065  1.        ]\n",
      " [ 0.14428696  1.        ]\n",
      " [-0.37522224  1.        ]\n",
      " [-0.16407845  1.        ]\n",
      " [ 0.04171266  1.        ]\n",
      " [ 0.18788017  1.        ]\n",
      " [ 1.17971151  1.        ]\n",
      " [-1.01087122  1.        ]\n",
      " [-0.22764046  1.        ]\n",
      " [-0.73576846  1.        ]\n",
      " [-1.14831409  1.        ]\n",
      " [ 1.54546775  1.        ]\n",
      " [ 0.01297138  1.        ]\n",
      " [ 1.09991088  1.        ]\n",
      " [ 0.62585327  1.        ]\n",
      " [-2.54398636  1.        ]\n",
      " [-1.30865058  1.        ]\n",
      " [ 0.52010962  1.        ]\n",
      " [-0.84287269  1.        ]\n",
      " [-0.22745666  1.        ]\n",
      " [-0.95248573  1.        ]\n",
      " [-0.87105295  1.        ]\n",
      " [-0.05948642  1.        ]\n",
      " [ 0.41278585  1.        ]\n",
      " [ 1.28101555  1.        ]\n",
      " [-0.55243848  1.        ]\n",
      " [-0.52061083  1.        ]\n",
      " [ 1.08210979  1.        ]\n",
      " [ 0.1562639   1.        ]\n",
      " [ 0.50671451  1.        ]\n",
      " [ 0.22923632  1.        ]\n",
      " [-0.54750963  1.        ]\n",
      " [-0.53656506  1.        ]\n",
      " [-0.49076424  1.        ]\n",
      " [ 1.99749581  1.        ]\n",
      " [ 0.89203377  1.        ]\n",
      " [-0.48126298  1.        ]\n",
      " [-0.22569115  1.        ]\n",
      " [ 0.31278449  1.        ]\n",
      " [ 0.13785118  1.        ]\n",
      " [-1.17650901  1.        ]\n",
      " [-1.71087313  1.        ]\n",
      " [ 0.69669744  1.        ]\n",
      " [ 1.93796254  1.        ]\n",
      " [-1.59036042  1.        ]\n",
      " [-1.12933581  1.        ]\n",
      " [ 0.58397107  1.        ]\n",
      " [ 1.22102934  1.        ]\n",
      " [ 1.20370637  1.        ]\n",
      " [ 0.41569575  1.        ]\n",
      " [ 0.45380532  1.        ]\n",
      " [-0.02884053  1.        ]\n",
      " [-0.22689615  1.        ]\n",
      " [ 0.50619105  1.        ]\n",
      " [-0.43972753  1.        ]\n",
      " [ 0.74383421  1.        ]\n",
      " [ 0.94946556  1.        ]\n",
      " [ 0.03179766  1.        ]\n",
      " [-1.20666255  1.        ]\n",
      " [ 0.26426981  1.        ]\n",
      " [-0.1331247   1.        ]\n",
      " [ 0.5357444   1.        ]\n",
      " [-0.20892579  1.        ]\n",
      " [-1.26130136  1.        ]\n",
      " [ 0.10938081  1.        ]\n",
      " [ 0.08643986  1.        ]\n",
      " [-2.0089546   1.        ]\n",
      " [ 2.0270278   1.        ]\n",
      " [-0.6709414   1.        ]\n",
      " [ 0.4544685   1.        ]\n",
      " [ 0.71864063  1.        ]\n",
      " [-0.6803258   1.        ]\n",
      " [ 1.34586014  1.        ]\n",
      " [-0.71007757  1.        ]\n",
      " [-0.72772377  1.        ]\n",
      " [-1.47623315  1.        ]\n",
      " [-0.30001486  1.        ]\n",
      " [-0.02716291  1.        ]]\n"
     ]
    }
   ],
   "source": [
    "# matrice x, avec hstack qui permet de coller tous les vecteurs\n",
    "# on colle les vecteur en rajoutant une colonne de biais \"1\" de la meme taille que x\n",
    "X = np.hstack((x, np.ones(x.shape)))\n",
    "X.shape\n",
    "print(X) # X = 100 lignes et 2 colonnes"
   ]
  },
  {
   "cell_type": "code",
   "execution_count": 49,
   "metadata": {},
   "outputs": [
    {
     "data": {
      "text/plain": [
       "(2, 1)"
      ]
     },
     "execution_count": 49,
     "metadata": {},
     "output_type": "execute_result"
    }
   ],
   "source": [
    "# Générer theta avec des valeurs aléatoires\n",
    "theta = np.random.randn(2, 1)\n",
    "theta.shape # on verifie les dimensions"
   ]
  },
  {
   "cell_type": "markdown",
   "metadata": {},
   "source": [
    "## Modèle linéaire"
   ]
  },
  {
   "cell_type": "code",
   "execution_count": 50,
   "metadata": {},
   "outputs": [],
   "source": [
    "def model(X, theta):\n",
    "    return X.dot(theta) # retourne le produit matriciel de X theta"
   ]
  },
  {
   "cell_type": "code",
   "execution_count": 51,
   "metadata": {},
   "outputs": [
    {
     "data": {
      "text/plain": [
       "[<matplotlib.lines.Line2D at 0x2bc815b2a00>]"
      ]
     },
     "execution_count": 51,
     "metadata": {},
     "output_type": "execute_result"
    },
    {
     "data": {
      "image/png": "[encoded data removed]",
      "text/plain": [
       "<Figure size 432x288 with 1 Axes>"
      ]
     },
     "metadata": {
      "needs_background": "light"
     },
     "output_type": "display_data"
    }
   ],
   "source": [
    "# afficher avec matplotlib le resultat du modèle par rapport au dataset X\n",
    "plt.plot(x, model(X, theta))"
   ]
  },
  {
   "cell_type": "markdown",
   "metadata": {},
   "source": [
    "## Fonction coût"
   ]
  },
  {
   "cell_type": "code",
   "execution_count": 52,
   "metadata": {},
   "outputs": [],
   "source": [
    "def cost_fonction(X, y, theta):\n",
    "    m = len(y)        # m représente le nombre d'exemple que l'on à dans le dataset, m = à la longueur du vecteur y\n",
    "    return 1/(2*m) * np.sum((model(X, theta) - y)**2) \n",
    "    # ² = à la différence entre notre model et notre y"
   ]
  },
  {
   "cell_type": "markdown",
   "metadata": {},
   "source": [
    "## Gradients et Descente de gradient"
   ]
  },
  {
   "cell_type": "code",
   "execution_count": 59,
   "metadata": {},
   "outputs": [],
   "source": [
    "# fonction gradient\n",
    "def grad(X, y, theta):\n",
    "    m = len(y)\n",
    "    return 1/m * X.T.dot(model(X, theta) - y)"
   ]
  },
  {
   "cell_type": "code",
   "execution_count": 67,
   "metadata": {},
   "outputs": [],
   "source": [
    "# fonction descente de gradient\n",
    "def gradient_descent(X, y, theta, learning_rate, n_iterations):\n",
    "    cost_history = np.zeros(n_iterations) # sert pour la courbe d'apprentissage)\n",
    "    for i in range(0, n_iterations):\n",
    "        theta = theta - learning_rate * grad(X, y, theta)\n",
    "        cost_history[i] = cost_fonction(X, y, theta) # on enregistre le coût du modèle pour chaque itérations\n",
    "    return theta, cost_history"
   ]
  },
  {
   "cell_type": "markdown",
   "metadata": {},
   "source": [
    "## Machine Learning : Entraînement du modèle"
   ]
  },
  {
   "cell_type": "code",
   "execution_count": 72,
   "metadata": {},
   "outputs": [
    {
     "data": {
      "text/plain": [
       "array([[52.38615099],\n",
       "       [ 0.64826112]])"
      ]
     },
     "execution_count": 72,
     "metadata": {},
     "output_type": "execute_result"
    }
   ],
   "source": [
    "theta_final, cost_history = gradient_descent(X, y, theta, learning_rate=0.01, n_iterations=1000)\n",
    "theta_final"
   ]
  },
  {
   "cell_type": "code",
   "execution_count": 73,
   "metadata": {},
   "outputs": [
    {
     "data": {
      "text/plain": [
       "[<matplotlib.lines.Line2D at 0x2bc8299d3d0>]"
      ]
     },
     "execution_count": 73,
     "metadata": {},
     "output_type": "execute_result"
    },
    {
     "data": {
      "image/png": "[encoded data removed]",
      "text/plain": [
       "<Figure size 432x288 with 1 Axes>"
      ]
     },
     "metadata": {
      "needs_background": "light"
     },
     "output_type": "display_data"
    }
   ],
   "source": [
    "# vérification si le vecteur paramètre donne de bons résultats\n",
    "predictions = model(X ,theta_final)\n",
    "plt.scatter(x, y)\n",
    "plt.plot(x, predictions, c=\"purple\")"
   ]
  },
  {
   "cell_type": "markdown",
   "metadata": {},
   "source": [
    "## Courbe d'apprentissage\n",
    "###### Voir si la machine apprend correctement"
   ]
  },
  {
   "cell_type": "code",
   "execution_count": 71,
   "metadata": {},
   "outputs": [
    {
     "data": {
      "text/plain": [
       "[<matplotlib.lines.Line2D at 0x2bc82934400>]"
      ]
     },
     "execution_count": 71,
     "metadata": {},
     "output_type": "execute_result"
    },
    {
     "data": {
      "image/png": "[encoded data removed]",
      "text/plain": [
       "<Figure size 432x288 with 1 Axes>"
      ]
     },
     "metadata": {
      "needs_background": "light"
     },
     "output_type": "display_data"
    }
   ],
   "source": [
    "plt.plot(range(1000), cost_history)"
   ]
  },
  {
   "cell_type": "markdown",
   "metadata": {},
   "source": [
    "## Coefficient de détermination\n",
    "###### permet d'évaluer la performance de regression linéaire : méthode des moindres carrés\n",
    "###### donc plus il est proche de 1 plus le modèle est bon"
   ]
  },
  {
   "cell_type": "code",
   "execution_count": 74,
   "metadata": {},
   "outputs": [],
   "source": [
    "def coef_determination(y, pred):\n",
    "    u =((y - pred)**2).sum()    # u = residu de la somme des carrées\n",
    "    v = ((y - y.mean())**2).sum()\n",
    "    return 1 - u/v       # v = somme total des carrées"
   ]
  },
  {
   "cell_type": "code",
   "execution_count": 75,
   "metadata": {},
   "outputs": [
    {
     "data": {
      "text/plain": [
       "0.9622825031049055"
      ]
     },
     "execution_count": 75,
     "metadata": {},
     "output_type": "execute_result"
    }
   ],
   "source": [
    "coef_determination(y , predictions)"
   ]
  }
 ],
 "metadata": {
  "interpreter": {
   "hash": "b57b0ba709768a7bbbc5b5f9f052a7cbe42e1ac711dd327dca942e98c95c92b1"
  },
  "kernelspec": {
   "display_name": "Python 3.9.7 64-bit ('base': conda)",
   "language": "python",
   "name": "python3"
  },
  "language_info": {
   "codemirror_mode": {
    "name": "ipython",
    "version": 3
   },
   "file_extension": ".py",
   "mimetype": "text/x-python",
   "name": "python",
   "nbconvert_exporter": "python",
   "pygments_lexer": "ipython3",
   "version": "3.9.7"
  },
  "orig_nbformat": 4
 },
 "nbformat": 4,
 "nbformat_minor": 2
}
